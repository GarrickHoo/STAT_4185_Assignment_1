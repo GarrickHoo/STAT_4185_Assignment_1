{
 "cells": [
  {
   "cell_type": "code",
   "execution_count": 7,
   "id": "8eba9803",
   "metadata": {},
   "outputs": [
    {
     "name": "stdout",
     "output_type": "stream",
     "text": [
      "The quote by Tom Golway is, \"An issue with current data science methodologies is that the impact of contextual awareness is underestimated since the problem is much more complex. At times we incorrectly equate correlation with causation based on incomplete data or lack of understanding sensitive dependencies between data sets\". In your README.md file, provide an explanation as to what you think this means it does not have to be too long\n"
     ]
    }
   ],
   "source": [
    "encrypted_file = open(\"encrypted_message_two.txt\", 'r')\n",
    "\n",
    "encrypted_message = encrypted_file.readline()\n",
    "\n",
    "encrypted_file.close()\n",
    "\n",
    "# Write Code Here\n",
    "message2 = \"\"\n",
    "\n",
    "for i in range(0, len(encrypted_message)//2):\n",
    "    message2 += encrypted_message[i*2]\n",
    "    message2 += encrypted_message[-i*2-2]\n",
    "    \n",
    "print(message2)"
   ]
  },
  {
   "cell_type": "code",
   "execution_count": null,
   "id": "edae7d2e",
   "metadata": {},
   "outputs": [],
   "source": []
  }
 ],
 "metadata": {
  "kernelspec": {
   "display_name": "Python 3 (ipykernel)",
   "language": "python",
   "name": "python3"
  },
  "language_info": {
   "codemirror_mode": {
    "name": "ipython",
    "version": 3
   },
   "file_extension": ".py",
   "mimetype": "text/x-python",
   "name": "python",
   "nbconvert_exporter": "python",
   "pygments_lexer": "ipython3",
   "version": "3.9.12"
  }
 },
 "nbformat": 4,
 "nbformat_minor": 5
}
