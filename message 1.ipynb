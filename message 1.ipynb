{
 "cells": [
  {
   "cell_type": "code",
   "execution_count": 4,
   "id": "fcc04fa1",
   "metadata": {},
   "outputs": [
    {
     "name": "stdout",
     "output_type": "stream",
     "text": [
      "hello all, hope you are having a good semester! i also hope this assignment is not too bad :) by the way while i have your attention i thought i would give you a quote from tom golway but this quote is in the second hidden message.\n"
     ]
    }
   ],
   "source": [
    "cipher = {\n",
    "    'a':'v',\n",
    "    'b':'h',\n",
    "    'c':'r',\n",
    "    'd':'j',\n",
    "    'e':'t',\n",
    "    'f':'x',\n",
    "    'g':'s',\n",
    "    'h':'a',\n",
    "    'i':'e',\n",
    "    'j':'f',\n",
    "    'k':'b',\n",
    "    'l':'n',\n",
    "    'm':'o',\n",
    "    'n':'i',\n",
    "    'o':'g',\n",
    "    'p':'l',\n",
    "    'q':'m',\n",
    "    'r':'z',\n",
    "    's':'q',\n",
    "    't':'u',\n",
    "    'u':'c',\n",
    "    'v':'k',\n",
    "    'w':'d',\n",
    "    'x':'p',\n",
    "    'y':'y',\n",
    "    'z':'w',\n",
    "    ' ': '}',\n",
    "    '\\n': '^',\n",
    "    ',': '5',\n",
    "    '!': '[',\n",
    "    ':':'-',\n",
    "    ')':'*',\n",
    "    '.': '%' \n",
    "}\n",
    "\n",
    "encrypted_file = open(\"encrypted_message_one.txt\", 'r')\n",
    "\n",
    "encrypted_message = encrypted_file.readline()\n",
    "\n",
    "encrypted_file.close()\n",
    "\n",
    "# Write code below\n",
    "def message(encrypted_message, cipher):\n",
    "    decrypted_message = \"\"\n",
    "    for char in encrypted_message:\n",
    "        for key, value in cipher.items():\n",
    "            if char == value:\n",
    "                decrypted_message += key\n",
    "    return decrypted_message\n",
    "\n",
    "print(message(encrypted_message, cipher))"
   ]
  }
 ],
 "metadata": {
  "kernelspec": {
   "display_name": "Python 3 (ipykernel)",
   "language": "python",
   "name": "python3"
  },
  "language_info": {
   "codemirror_mode": {
    "name": "ipython",
    "version": 3
   },
   "file_extension": ".py",
   "mimetype": "text/x-python",
   "name": "python",
   "nbconvert_exporter": "python",
   "pygments_lexer": "ipython3",
   "version": "3.9.12"
  }
 },
 "nbformat": 4,
 "nbformat_minor": 5
}
